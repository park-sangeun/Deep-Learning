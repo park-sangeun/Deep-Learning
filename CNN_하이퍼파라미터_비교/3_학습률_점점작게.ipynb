{
  "cells": [
    {
      "cell_type": "code",
      "execution_count": 1,
      "metadata": {
        "id": "CwX92Dgf3QZq",
        "outputId": "414c6c96-8e79-4619-e0a5-f42cf69a20a7",
        "colab": {
          "base_uri": "https://localhost:8080/"
        }
      },
      "outputs": [
        {
          "output_type": "stream",
          "name": "stdout",
          "text": [
            "Downloading data from https://www.cs.toronto.edu/~kriz/cifar-10-python.tar.gz\n",
            "170498071/170498071 [==============================] - 4s 0us/step\n"
          ]
        }
      ],
      "source": [
        "from keras.datasets import cifar10\n",
        "\n",
        "(train_images, train_labels), (test_images, test_labels) = cifar10.load_data()"
      ]
    },
    {
      "cell_type": "code",
      "execution_count": 2,
      "metadata": {
        "id": "KAflhzsZ3TN1"
      },
      "outputs": [],
      "source": [
        "from keras.utils import to_categorical\n",
        "\n",
        "train_images = train_images.astype('float32') / 255.0\n",
        "test_images = test_images.astype('float32') / 255.0\n",
        "\n",
        "train_labels = to_categorical(train_labels, 10)\n",
        "test_labels = to_categorical(test_labels, 10)"
      ]
    },
    {
      "cell_type": "code",
      "execution_count": 3,
      "metadata": {
        "id": "1yMHoiDR3W1N"
      },
      "outputs": [],
      "source": [
        "from keras.models import Sequential\n",
        "from keras.layers import Conv2D, MaxPool2D, Dropout, Flatten, Dense, BatchNormalization\n",
        "\n",
        "model = Sequential()\n",
        "\n",
        "# Convolutional Block (Conv-Conv-Pool-Dropout)\n",
        "model.add(Conv2D(32, (3, 3), activation='relu', padding='same', input_shape=(32, 32, 3)))\n",
        "model.add(BatchNormalization())\n",
        "model.add(Conv2D(32, (3, 3), activation='relu', padding='same'))\n",
        "model.add(MaxPool2D(pool_size=(2, 2)))\n",
        "model.add(Dropout(0.25))\n",
        "\n",
        "# Convolutional Block (Conv-Conv-Pool-Dropout)\n",
        "model.add(Conv2D(64, (3, 3), activation='relu', padding='same'))\n",
        "model.add(BatchNormalization())\n",
        "model.add(Conv2D(64, (3, 3), activation='relu', padding='same'))\n",
        "model.add(MaxPool2D(pool_size=(2, 2)))\n",
        "model.add(Dropout(0.25))\n",
        "\n",
        "model.add(Conv2D(128, (3, 3), padding='same', activation='relu'))\n",
        "model.add(BatchNormalization())\n",
        "model.add(MaxPool2D(pool_size=(2, 2)))\n",
        "model.add(Dropout(0.25))\n",
        "\n",
        "# Classifying\n",
        "model.add(Flatten())\n",
        "model.add(Dense(512, activation='relu'))\n",
        "model.add(Dropout(0.5))\n",
        "model.add(Dense(10, activation='softmax'))"
      ]
    },
    {
      "cell_type": "code",
      "execution_count": 4,
      "metadata": {
        "id": "lgb6I6rm3c8X",
        "colab": {
          "base_uri": "https://localhost:8080/"
        },
        "outputId": "3904eff2-6cb9-4d81-baa7-0408a60ed3cc"
      },
      "outputs": [
        {
          "output_type": "stream",
          "name": "stderr",
          "text": [
            "/usr/local/lib/python3.10/dist-packages/keras/optimizers/legacy/adam.py:117: UserWarning: The `lr` argument is deprecated, use `learning_rate` instead.\n",
            "  super().__init__(name, **kwargs)\n"
          ]
        }
      ],
      "source": [
        "from keras.optimizers import Adam\n",
        "\n",
        "model.compile(loss='categorical_crossentropy', optimizer=Adam(lr=0.001), metrics=['acc'])"
      ]
    },
    {
      "cell_type": "code",
      "execution_count": 5,
      "metadata": {
        "id": "Y91gJ8MB3hpV"
      },
      "outputs": [],
      "source": [
        "import keras\n",
        "\n",
        "def lr_schedule(epoch):\n",
        "    lrate = 0.001\n",
        "    if epoch > 10:\n",
        "        lrate = 0.0005\n",
        "    if epoch > 20:\n",
        "        lrate = 0.0001\n",
        "    if epoch > 30:\n",
        "        lrate = 0.00005\n",
        "    return lrate\n",
        "\n",
        "checkpoint = keras.callbacks.ModelCheckpoint('best_cnn_model.h5', save_best_only=True)\n",
        "# 20번의 연속적인 epoch 동안 개선이 없을 때 학습이 중단되도록 함\n",
        "early_stopping = keras.callbacks.EarlyStopping(patience=20, restore_best_weights=True)"
      ]
    },
    {
      "cell_type": "code",
      "execution_count": 6,
      "metadata": {
        "id": "U9A3SDOUri8P",
        "outputId": "7440fed5-40a7-4c13-df00-92745134de83",
        "colab": {
          "base_uri": "https://localhost:8080/"
        }
      },
      "outputs": [
        {
          "output_type": "stream",
          "name": "stdout",
          "text": [
            "Epoch 1/30\n",
            "352/352 [==============================] - 16s 19ms/step - loss: 1.7517 - acc: 0.3843 - val_loss: 3.0261 - val_acc: 0.2304 - lr: 0.0010\n",
            "Epoch 2/30\n",
            "352/352 [==============================] - 9s 26ms/step - loss: 1.3090 - acc: 0.5297 - val_loss: 1.1284 - val_acc: 0.6116 - lr: 0.0010\n",
            "Epoch 3/30\n",
            "352/352 [==============================] - 6s 17ms/step - loss: 1.1152 - acc: 0.6055 - val_loss: 0.9799 - val_acc: 0.6692 - lr: 0.0010\n",
            "Epoch 4/30\n",
            "352/352 [==============================] - 6s 17ms/step - loss: 0.9860 - acc: 0.6525 - val_loss: 0.9523 - val_acc: 0.6790 - lr: 0.0010\n",
            "Epoch 5/30\n",
            "352/352 [==============================] - 6s 17ms/step - loss: 0.8969 - acc: 0.6838 - val_loss: 0.7682 - val_acc: 0.7354 - lr: 0.0010\n",
            "Epoch 6/30\n",
            "352/352 [==============================] - 6s 18ms/step - loss: 0.8247 - acc: 0.7104 - val_loss: 0.7086 - val_acc: 0.7568 - lr: 0.0010\n",
            "Epoch 7/30\n",
            "352/352 [==============================] - 6s 17ms/step - loss: 0.7726 - acc: 0.7296 - val_loss: 0.7573 - val_acc: 0.7482 - lr: 0.0010\n",
            "Epoch 8/30\n",
            "352/352 [==============================] - 6s 18ms/step - loss: 0.7245 - acc: 0.7473 - val_loss: 0.7388 - val_acc: 0.7596 - lr: 0.0010\n",
            "Epoch 9/30\n",
            "352/352 [==============================] - 6s 17ms/step - loss: 0.6828 - acc: 0.7644 - val_loss: 0.7016 - val_acc: 0.7688 - lr: 0.0010\n",
            "Epoch 10/30\n",
            "352/352 [==============================] - 6s 18ms/step - loss: 0.6546 - acc: 0.7709 - val_loss: 0.6155 - val_acc: 0.7984 - lr: 0.0010\n",
            "Epoch 11/30\n",
            "352/352 [==============================] - 6s 17ms/step - loss: 0.6231 - acc: 0.7813 - val_loss: 0.7278 - val_acc: 0.7648 - lr: 0.0010\n",
            "Epoch 12/30\n",
            "352/352 [==============================] - 6s 18ms/step - loss: 0.5426 - acc: 0.8115 - val_loss: 0.5685 - val_acc: 0.8224 - lr: 5.0000e-04\n",
            "Epoch 13/30\n",
            "352/352 [==============================] - 7s 19ms/step - loss: 0.5120 - acc: 0.8205 - val_loss: 0.5658 - val_acc: 0.8212 - lr: 5.0000e-04\n",
            "Epoch 14/30\n",
            "352/352 [==============================] - 6s 17ms/step - loss: 0.4862 - acc: 0.8309 - val_loss: 0.5803 - val_acc: 0.8232 - lr: 5.0000e-04\n",
            "Epoch 15/30\n",
            "352/352 [==============================] - 6s 17ms/step - loss: 0.4694 - acc: 0.8344 - val_loss: 0.5855 - val_acc: 0.8168 - lr: 5.0000e-04\n",
            "Epoch 16/30\n",
            "352/352 [==============================] - 6s 17ms/step - loss: 0.4476 - acc: 0.8421 - val_loss: 0.5299 - val_acc: 0.8384 - lr: 5.0000e-04\n",
            "Epoch 17/30\n",
            "352/352 [==============================] - 6s 17ms/step - loss: 0.4349 - acc: 0.8484 - val_loss: 0.5105 - val_acc: 0.8420 - lr: 5.0000e-04\n",
            "Epoch 18/30\n",
            "352/352 [==============================] - 6s 17ms/step - loss: 0.4212 - acc: 0.8527 - val_loss: 0.5398 - val_acc: 0.8386 - lr: 5.0000e-04\n",
            "Epoch 19/30\n",
            "352/352 [==============================] - 6s 17ms/step - loss: 0.4058 - acc: 0.8573 - val_loss: 0.5632 - val_acc: 0.8344 - lr: 5.0000e-04\n",
            "Epoch 20/30\n",
            "352/352 [==============================] - 6s 17ms/step - loss: 0.3974 - acc: 0.8604 - val_loss: 0.5501 - val_acc: 0.8366 - lr: 5.0000e-04\n",
            "Epoch 21/30\n",
            "352/352 [==============================] - 6s 17ms/step - loss: 0.3848 - acc: 0.8656 - val_loss: 0.5752 - val_acc: 0.8372 - lr: 5.0000e-04\n",
            "Epoch 22/30\n",
            "352/352 [==============================] - 6s 18ms/step - loss: 0.3346 - acc: 0.8806 - val_loss: 0.4911 - val_acc: 0.8594 - lr: 1.0000e-04\n",
            "Epoch 23/30\n",
            "352/352 [==============================] - 6s 17ms/step - loss: 0.3189 - acc: 0.8876 - val_loss: 0.5106 - val_acc: 0.8534 - lr: 1.0000e-04\n",
            "Epoch 24/30\n",
            "352/352 [==============================] - 6s 17ms/step - loss: 0.3089 - acc: 0.8898 - val_loss: 0.5187 - val_acc: 0.8510 - lr: 1.0000e-04\n",
            "Epoch 25/30\n",
            "352/352 [==============================] - 6s 17ms/step - loss: 0.3029 - acc: 0.8924 - val_loss: 0.5054 - val_acc: 0.8550 - lr: 1.0000e-04\n",
            "Epoch 26/30\n",
            "352/352 [==============================] - 6s 18ms/step - loss: 0.2984 - acc: 0.8929 - val_loss: 0.5164 - val_acc: 0.8518 - lr: 1.0000e-04\n",
            "Epoch 27/30\n",
            "352/352 [==============================] - 6s 17ms/step - loss: 0.2933 - acc: 0.8950 - val_loss: 0.5157 - val_acc: 0.8534 - lr: 1.0000e-04\n",
            "Epoch 28/30\n",
            "352/352 [==============================] - 6s 17ms/step - loss: 0.2927 - acc: 0.8955 - val_loss: 0.5217 - val_acc: 0.8538 - lr: 1.0000e-04\n",
            "Epoch 29/30\n",
            "352/352 [==============================] - 6s 17ms/step - loss: 0.2877 - acc: 0.8983 - val_loss: 0.5377 - val_acc: 0.8536 - lr: 1.0000e-04\n",
            "Epoch 30/30\n",
            "352/352 [==============================] - 7s 19ms/step - loss: 0.2815 - acc: 0.8994 - val_loss: 0.5215 - val_acc: 0.8558 - lr: 1.0000e-04\n"
          ]
        }
      ],
      "source": [
        "from keras.callbacks import LearningRateScheduler\n",
        "\n",
        "# 학습률 갈수록 작게 조정 버전\n",
        "history = model.fit(train_images, train_labels, batch_size=128, epochs=30,  validation_split=0.1,\n",
        "                    callbacks = [checkpoint, early_stopping, LearningRateScheduler(lr_schedule)])"
      ]
    },
    {
      "cell_type": "code",
      "execution_count": 7,
      "metadata": {
        "id": "K2JsOHgO3lSW",
        "outputId": "95f33f95-fb28-49c5-8c3b-cb21833352db",
        "colab": {
          "base_uri": "https://localhost:8080/",
          "height": 468
        }
      },
      "outputs": [
        {
          "output_type": "display_data",
          "data": {
            "text/plain": [
              "<Figure size 640x480 with 2 Axes>"
            ],
            "image/png": "[encoded data removed]"
          },
          "metadata": {}
        },
        {
          "output_type": "stream",
          "name": "stdout",
          "text": [
            "313/313 - 1s - loss: 0.5474 - acc: 0.8457 - 1s/epoch - 4ms/step\n"
          ]
        }
      ],
      "source": [
        "import matplotlib.pyplot as plt\n",
        "\n",
        "plt.figure()\n",
        "\n",
        "# 정확도 그래프\n",
        "plt.subplot(1, 2, 1)\n",
        "plt.plot(history.history['acc'], label='acc')\n",
        "plt.plot(history.history['val_acc'], label='val_acc')\n",
        "plt.ylabel('accuracy')\n",
        "plt.xlabel('epoch')\n",
        "plt.legend(loc='best')\n",
        "\n",
        "# 손실 그래프\n",
        "plt.subplot(1, 2, 2)\n",
        "plt.plot(history.history['loss'], label='loss')\n",
        "plt.plot(history.history['val_loss'], label='val_loss')\n",
        "plt.ylabel('loss')\n",
        "plt.xlabel('epoch')\n",
        "plt.legend(loc='best')\n",
        "\n",
        "plt.show()\n",
        "\n",
        "test_loss, test_acc = model.evaluate(test_images,  test_labels, verbose=2)"
      ]
    }
  ],
  "metadata": {
    "colab": {
      "provenance": [],
      "gpuType": "T4"
    },
    "kernelspec": {
      "display_name": "Python 3",
      "name": "python3"
    },
    "language_info": {
      "name": "python"
    },
    "accelerator": "GPU",
    "gpuClass": "standard"
  },
  "nbformat": 4,
  "nbformat_minor": 0
}