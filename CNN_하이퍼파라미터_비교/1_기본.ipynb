{
  "cells": [
    {
      "cell_type": "markdown",
      "metadata": {
        "id": "view-in-github"
      },
      "source": [
        "<a href=\"https://colab.research.google.com/github/leechanhoe/deep-learning-project/blob/master/%EA%B8%B0%EB%B3%B8.ipynb\" target=\"_parent\"><img src=\"https://colab.research.google.com/assets/colab-badge.svg\" alt=\"Open In Colab\"/></a>"
      ]
    },
    {
      "cell_type": "code",
      "execution_count": null,
      "metadata": {
        "id": "CwX92Dgf3QZq",
        "colab": {
          "base_uri": "https://localhost:8080/"
        },
        "outputId": "caea1c3f-4e16-4d5b-c9d3-65ebcc6a9342"
      },
      "outputs": [
        {
          "output_type": "stream",
          "name": "stdout",
          "text": [
            "Downloading data from https://www.cs.toronto.edu/~kriz/cifar-10-python.tar.gz\n",
            "170498071/170498071 [==============================] - 5s 0us/step\n"
          ]
        }
      ],
      "source": [
        "from keras.datasets import cifar10\n",
        "\n",
        "(train_images, train_labels), (test_images, test_labels) = cifar10.load_data()"
      ]
    },
    {
      "cell_type": "code",
      "execution_count": null,
      "metadata": {
        "id": "KAflhzsZ3TN1"
      },
      "outputs": [],
      "source": [
        "from keras.utils import to_categorical\n",
        "\n",
        "train_images = train_images.astype('float32') / 255.0\n",
        "test_images = test_images.astype('float32') / 255.0\n",
        "\n",
        "train_labels = to_categorical(train_labels, 10)\n",
        "test_labels = to_categorical(test_labels, 10)"
      ]
    },
    {
      "cell_type": "code",
      "execution_count": null,
      "metadata": {
        "id": "1yMHoiDR3W1N"
      },
      "outputs": [],
      "source": [
        "from keras.models import Sequential\n",
        "from keras.layers import Conv2D, MaxPool2D, Dropout, Flatten, Dense, BatchNormalization\n",
        "\n",
        "model = Sequential()\n",
        "\n",
        "# Convolutional Block (Conv-Conv-Pool-Dropout)\n",
        "model.add(Conv2D(32, (3, 3), activation='relu', padding='same', input_shape=(32, 32, 3)))\n",
        "# model.add(BatchNormalization())\n",
        "model.add(Conv2D(32, (3, 3), activation='relu', padding='same'))\n",
        "model.add(MaxPool2D(pool_size=(2, 2)))\n",
        "model.add(Dropout(0.25))\n",
        "\n",
        "# Convolutional Block (Conv-Conv-Pool-Dropout)\n",
        "model.add(Conv2D(64, (3, 3), activation='relu', padding='same'))\n",
        "# model.add(BatchNormalization())\n",
        "model.add(Conv2D(64, (3, 3), activation='relu', padding='same'))\n",
        "model.add(MaxPool2D(pool_size=(2, 2)))\n",
        "model.add(Dropout(0.25))\n",
        "\n",
        "model.add(Conv2D(128, (3, 3), padding='same', activation='relu'))\n",
        "# model.add(BatchNormalization())\n",
        "model.add(MaxPool2D(pool_size=(2, 2)))\n",
        "model.add(Dropout(0.25))\n",
        "\n",
        "# Classifying\n",
        "model.add(Flatten())\n",
        "model.add(Dense(512, activation='relu'))\n",
        "model.add(Dropout(0.5))\n",
        "model.add(Dense(10, activation='softmax'))"
      ]
    },
    {
      "cell_type": "code",
      "execution_count": null,
      "metadata": {
        "id": "lgb6I6rm3c8X",
        "colab": {
          "base_uri": "https://localhost:8080/"
        },
        "outputId": "f99a9969-3588-4772-8963-248f7c430ce0"
      },
      "outputs": [
        {
          "output_type": "stream",
          "name": "stderr",
          "text": [
            "/usr/local/lib/python3.10/dist-packages/keras/optimizers/legacy/adam.py:117: UserWarning: The `lr` argument is deprecated, use `learning_rate` instead.\n",
            "  super().__init__(name, **kwargs)\n"
          ]
        }
      ],
      "source": [
        "from keras.optimizers import Adam\n",
        "\n",
        "model.compile(loss='categorical_crossentropy', optimizer=Adam(lr=0.001), metrics=['acc'])"
      ]
    },
    {
      "cell_type": "code",
      "execution_count": null,
      "metadata": {
        "id": "Y91gJ8MB3hpV"
      },
      "outputs": [],
      "source": [
        "from keras.preprocessing.image import ImageDataGenerator\n",
        "import keras\n",
        "\n",
        "# datagen = ImageDataGenerator(\n",
        "#     rotation_range=15,\n",
        "#     width_shift_range=0.1,\n",
        "#     height_shift_range=0.1,\n",
        "#     horizontal_flip=True,\n",
        "#     )\n",
        "# datagen.fit(train_images)\n",
        "\n",
        "# def lr_schedule(epoch):\n",
        "#     lrate = 0.001\n",
        "#     if epoch > 25:\n",
        "#         lrate = 0.0005\n",
        "#     if epoch > 50:\n",
        "#         lrate = 0.0003\n",
        "#     if epoch > 75:\n",
        "#         lrate = 0.0001\n",
        "#     return lrate\n",
        "\n",
        "checkpoint = keras.callbacks.ModelCheckpoint('best_cnn_model.h5', save_best_only=True)\n",
        "# 5번의 연속적인 epoch 동안 개선이 없을 때 학습이 중단되도록 함\n",
        "early_stopping = keras.callbacks.EarlyStopping(patience=20, restore_best_weights=True)"
      ]
    },
    {
      "cell_type": "code",
      "execution_count": null,
      "metadata": {
        "id": "U9A3SDOUri8P",
        "colab": {
          "base_uri": "https://localhost:8080/"
        },
        "outputId": "bb22361c-b7cd-41fd-f284-26438986fd92"
      },
      "outputs": [
        {
          "output_type": "stream",
          "name": "stdout",
          "text": [
            "Epoch 1/30\n",
            "352/352 [==============================] - 296s 840ms/step - loss: 1.6030 - acc: 0.4083 - val_loss: 1.2361 - val_acc: 0.5470\n",
            "Epoch 2/30\n",
            "352/352 [==============================] - 296s 840ms/step - loss: 1.2286 - acc: 0.5580 - val_loss: 1.0127 - val_acc: 0.6552\n",
            "Epoch 3/30\n",
            "352/352 [==============================] - 291s 828ms/step - loss: 1.0537 - acc: 0.6263 - val_loss: 0.8687 - val_acc: 0.6998\n",
            "Epoch 4/30\n",
            "352/352 [==============================] - 294s 835ms/step - loss: 0.9542 - acc: 0.6607 - val_loss: 0.7923 - val_acc: 0.7314\n",
            "Epoch 5/30\n",
            "352/352 [==============================] - 288s 819ms/step - loss: 0.8731 - acc: 0.6925 - val_loss: 0.7876 - val_acc: 0.7264\n",
            "Epoch 6/30\n",
            "352/352 [==============================] - 294s 835ms/step - loss: 0.8115 - acc: 0.7147 - val_loss: 0.6974 - val_acc: 0.7582\n",
            "Epoch 7/30\n",
            "352/352 [==============================] - 289s 820ms/step - loss: 0.7676 - acc: 0.7313 - val_loss: 0.7060 - val_acc: 0.7596\n",
            "Epoch 8/30\n",
            "352/352 [==============================] - 292s 829ms/step - loss: 0.7158 - acc: 0.7469 - val_loss: 0.6728 - val_acc: 0.7650\n",
            "Epoch 9/30\n",
            "352/352 [==============================] - 294s 836ms/step - loss: 0.6902 - acc: 0.7574 - val_loss: 0.6543 - val_acc: 0.7744\n",
            "Epoch 10/30\n",
            "352/352 [==============================] - 291s 828ms/step - loss: 0.6487 - acc: 0.7707 - val_loss: 0.5942 - val_acc: 0.7944\n",
            "Epoch 11/30\n",
            "352/352 [==============================] - 293s 832ms/step - loss: 0.6207 - acc: 0.7807 - val_loss: 0.6010 - val_acc: 0.7932\n",
            "Epoch 12/30\n",
            "352/352 [==============================] - 294s 835ms/step - loss: 0.5998 - acc: 0.7872 - val_loss: 0.5866 - val_acc: 0.8004\n",
            "Epoch 13/30\n",
            "352/352 [==============================] - 292s 829ms/step - loss: 0.5849 - acc: 0.7934 - val_loss: 0.5904 - val_acc: 0.7962\n",
            "Epoch 14/30\n",
            "352/352 [==============================] - 289s 821ms/step - loss: 0.5547 - acc: 0.8024 - val_loss: 0.5558 - val_acc: 0.8066\n",
            "Epoch 15/30\n",
            "352/352 [==============================] - 291s 827ms/step - loss: 0.5441 - acc: 0.8092 - val_loss: 0.5427 - val_acc: 0.8134\n",
            "Epoch 16/30\n",
            "352/352 [==============================] - 292s 828ms/step - loss: 0.5221 - acc: 0.8130 - val_loss: 0.5502 - val_acc: 0.8106\n",
            "Epoch 17/30\n",
            "352/352 [==============================] - 291s 828ms/step - loss: 0.5048 - acc: 0.8208 - val_loss: 0.5393 - val_acc: 0.8174\n",
            "Epoch 18/30\n",
            "352/352 [==============================] - 292s 829ms/step - loss: 0.4994 - acc: 0.8220 - val_loss: 0.5339 - val_acc: 0.8196\n",
            "Epoch 19/30\n",
            "352/352 [==============================] - 294s 833ms/step - loss: 0.4809 - acc: 0.8284 - val_loss: 0.5418 - val_acc: 0.8176\n",
            "Epoch 20/30\n",
            "352/352 [==============================] - 292s 830ms/step - loss: 0.4776 - acc: 0.8318 - val_loss: 0.5233 - val_acc: 0.8178\n",
            "Epoch 21/30\n",
            "352/352 [==============================] - 290s 824ms/step - loss: 0.4595 - acc: 0.8366 - val_loss: 0.5687 - val_acc: 0.8130\n",
            "Epoch 22/30\n",
            "352/352 [==============================] - 293s 833ms/step - loss: 0.4512 - acc: 0.8388 - val_loss: 0.5309 - val_acc: 0.8220\n",
            "Epoch 23/30\n",
            "352/352 [==============================] - 292s 830ms/step - loss: 0.4391 - acc: 0.8456 - val_loss: 0.5232 - val_acc: 0.8262\n",
            "Epoch 24/30\n",
            "352/352 [==============================] - 293s 831ms/step - loss: 0.4272 - acc: 0.8480 - val_loss: 0.5389 - val_acc: 0.8230\n",
            "Epoch 25/30\n",
            "352/352 [==============================] - 287s 815ms/step - loss: 0.4289 - acc: 0.8491 - val_loss: 0.5350 - val_acc: 0.8194\n",
            "Epoch 26/30\n",
            "352/352 [==============================] - 291s 828ms/step - loss: 0.4114 - acc: 0.8542 - val_loss: 0.5194 - val_acc: 0.8254\n",
            "Epoch 27/30\n",
            "352/352 [==============================] - 293s 834ms/step - loss: 0.4090 - acc: 0.8549 - val_loss: 0.5248 - val_acc: 0.8288\n",
            "Epoch 28/30\n",
            "352/352 [==============================] - 291s 825ms/step - loss: 0.4058 - acc: 0.8565 - val_loss: 0.5419 - val_acc: 0.8172\n",
            "Epoch 29/30\n",
            "352/352 [==============================] - 293s 832ms/step - loss: 0.3951 - acc: 0.8605 - val_loss: 0.5259 - val_acc: 0.8304\n",
            "Epoch 30/30\n",
            "352/352 [==============================] - 290s 824ms/step - loss: 0.3927 - acc: 0.8601 - val_loss: 0.5313 - val_acc: 0.8262\n"
          ]
        }
      ],
      "source": [
        "from keras.callbacks import LearningRateScheduler\n",
        "\n",
        "# 변형된 이미지 추가 버전\n",
        "# history = model.fit(datagen.flow(train_images, train_labels, batch_size=128), epochs=30,  validation_split=0.1,\n",
        "#                     callbacks = [checkpoint, early_stopping, LearningRateScheduler(lr_schedule)])\n",
        "\n",
        "# 학습률 갈수록 작게 조정 버전\n",
        "# history = model.fit(train_images, train_labels, batch_size=128, epochs=100,  validation_split=0.1,\n",
        "#                     callbacks = [checkpoint, early_stopping, LearningRateScheduler(lr_schedule)])\n",
        "\n",
        "#기본버전\n",
        "history = model.fit(train_images, train_labels, batch_size=128, epochs=30,  validation_split=0.1,\n",
        "                    callbacks = [checkpoint, early_stopping])"
      ]
    },
    {
      "cell_type": "code",
      "execution_count": null,
      "metadata": {
        "id": "SKGWJdbb3kN_"
      },
      "outputs": [],
      "source": [
        "from keras.models import load_model\n",
        "\n",
        "model.save('CNN_CIFAR10.h5')\n",
        "model = load_model('CNN_CIFAR10.h5')"
      ]
    },
    {
      "cell_type": "code",
      "execution_count": null,
      "metadata": {
        "id": "K2JsOHgO3lSW",
        "colab": {
          "base_uri": "https://localhost:8080/",
          "height": 467
        },
        "outputId": "ee48c384-22ca-445a-9373-3a654ecf96d5"
      },
      "outputs": [
        {
          "output_type": "display_data",
          "data": {
            "text/plain": [
              "<Figure size 640x480 with 2 Axes>"
            ],
            "image/png": "[encoded data removed]"
          },
          "metadata": {}
        },
        {
          "output_type": "stream",
          "name": "stdout",
          "text": [
            "313/313 - 15s - loss: 0.5523 - acc: 0.8177 - 15s/epoch - 47ms/step\n"
          ]
        }
      ],
      "source": [
        "import matplotlib.pyplot as plt\n",
        "\n",
        "plt.figure()\n",
        "\n",
        "# 정확도 그래프\n",
        "plt.subplot(1, 2, 1)\n",
        "plt.plot(history.history['acc'], label='acc')\n",
        "plt.plot(history.history['val_acc'], label='val_acc')\n",
        "plt.ylabel('accuracy')\n",
        "plt.xlabel('epoch')\n",
        "plt.legend(loc='best')\n",
        "\n",
        "# 손실 그래프\n",
        "plt.subplot(1, 2, 2)\n",
        "plt.plot(history.history['loss'], label='loss')\n",
        "plt.plot(history.history['val_loss'], label='val_loss')\n",
        "plt.ylabel('loss')\n",
        "plt.xlabel('epoch')\n",
        "plt.legend(loc='best')\n",
        "\n",
        "plt.show()\n",
        "\n",
        "test_loss, test_acc = model.evaluate(test_images,  test_labels, verbose=2)"
      ]
    }
  ],
  "metadata": {
    "colab": {
      "provenance": []
    },
    "kernelspec": {
      "display_name": "Python 3",
      "name": "python3"
    },
    "language_info": {
      "name": "python"
    }
  },
  "nbformat": 4,
  "nbformat_minor": 0
}