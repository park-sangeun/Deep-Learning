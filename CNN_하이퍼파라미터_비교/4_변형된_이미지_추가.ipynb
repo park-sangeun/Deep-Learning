{
  "cells": [
    {
      "cell_type": "code",
      "execution_count": null,
      "metadata": {
        "id": "CwX92Dgf3QZq",
        "colab": {
          "base_uri": "https://localhost:8080/"
        },
        "outputId": "3f880949-86b3-496e-fd30-cf77c7a7328c"
      },
      "outputs": [
        {
          "output_type": "stream",
          "name": "stdout",
          "text": [
            "Downloading data from https://www.cs.toronto.edu/~kriz/cifar-10-python.tar.gz\n",
            "170498071/170498071 [==============================] - 2s 0us/step\n"
          ]
        }
      ],
      "source": [
        "from keras.datasets import cifar10\n",
        "\n",
        "(train_images, train_labels), (test_images, test_labels) = cifar10.load_data()"
      ]
    },
    {
      "cell_type": "code",
      "execution_count": null,
      "metadata": {
        "id": "KAflhzsZ3TN1"
      },
      "outputs": [],
      "source": [
        "from keras.utils import to_categorical\n",
        "from sklearn.model_selection import train_test_split\n",
        "import numpy as np\n",
        "\n",
        "train_images = train_images.astype('float32') / 255.0\n",
        "test_images = test_images.astype('float32') / 255.0\n",
        "\n",
        "train_labels = to_categorical(train_labels, 10)\n",
        "test_labels = to_categorical(test_labels, 10)\n",
        "\n",
        "train_images = np.array(train_images)\n",
        "train_labels = np.array(train_labels)\n",
        "\n",
        "train_images_split, val_images_split, train_labels_split, val_labels_split = train_test_split(\n",
        "    train_images, train_labels, test_size=0.1, random_state=42\n",
        ")"
      ]
    },
    {
      "cell_type": "code",
      "execution_count": null,
      "metadata": {
        "id": "1yMHoiDR3W1N"
      },
      "outputs": [],
      "source": [
        "from keras.models import Sequential\n",
        "from keras.layers import Conv2D, MaxPool2D, Dropout, Flatten, Dense, BatchNormalization\n",
        "\n",
        "model = Sequential()\n",
        "\n",
        "# Convolutional Block (Conv-Conv-Pool-Dropout)\n",
        "model.add(Conv2D(32, (3, 3), activation='relu', padding='same', input_shape=(32, 32, 3)))\n",
        "model.add(BatchNormalization())\n",
        "model.add(Conv2D(32, (3, 3), activation='relu', padding='same'))\n",
        "model.add(MaxPool2D(pool_size=(2, 2)))\n",
        "model.add(Dropout(0.25))\n",
        "\n",
        "# Convolutional Block (Conv-Conv-Pool-Dropout)\n",
        "model.add(Conv2D(64, (3, 3), activation='relu', padding='same'))\n",
        "model.add(BatchNormalization())\n",
        "model.add(Conv2D(64, (3, 3), activation='relu', padding='same'))\n",
        "model.add(MaxPool2D(pool_size=(2, 2)))\n",
        "model.add(Dropout(0.25))\n",
        "\n",
        "model.add(Conv2D(128, (3, 3), padding='same', activation='relu'))\n",
        "model.add(BatchNormalization())\n",
        "model.add(MaxPool2D(pool_size=(2, 2)))\n",
        "model.add(Dropout(0.25))\n",
        "\n",
        "# Classifying\n",
        "model.add(Flatten())\n",
        "model.add(Dense(512, activation='relu'))\n",
        "model.add(Dropout(0.5))\n",
        "model.add(Dense(10, activation='softmax'))"
      ]
    },
    {
      "cell_type": "code",
      "execution_count": null,
      "metadata": {
        "id": "lgb6I6rm3c8X",
        "colab": {
          "base_uri": "https://localhost:8080/"
        },
        "outputId": "818bdfd1-e563-4e6f-8208-8292f41b9a38"
      },
      "outputs": [
        {
          "output_type": "stream",
          "name": "stderr",
          "text": [
            "/usr/local/lib/python3.10/dist-packages/keras/optimizers/legacy/adam.py:117: UserWarning: The `lr` argument is deprecated, use `learning_rate` instead.\n",
            "  super().__init__(name, **kwargs)\n"
          ]
        }
      ],
      "source": [
        "from keras.optimizers import Adam\n",
        "\n",
        "model.compile(loss='categorical_crossentropy', optimizer=Adam(lr=0.001), metrics=['acc'])"
      ]
    },
    {
      "cell_type": "code",
      "execution_count": null,
      "metadata": {
        "id": "Y91gJ8MB3hpV"
      },
      "outputs": [],
      "source": [
        "from keras.preprocessing.image import ImageDataGenerator\n",
        "import keras\n",
        "\n",
        "datagen = ImageDataGenerator(\n",
        "    rotation_range=15,\n",
        "    width_shift_range=0.1,\n",
        "    height_shift_range=0.1,\n",
        "    horizontal_flip=True,\n",
        "    )\n",
        "datagen.fit(train_images)\n",
        "\n",
        "def lr_schedule(epoch):\n",
        "    lrate = 0.001\n",
        "    if epoch > 10:\n",
        "        lrate = 0.0005\n",
        "    if epoch > 20:\n",
        "        lrate = 0.0001\n",
        "    return lrate\n",
        "\n",
        "checkpoint = keras.callbacks.ModelCheckpoint('best_cnn_model.h5', save_best_only=True)\n",
        "# 20번의 연속적인 epoch 동안 개선이 없을 때 학습이 중단되도록 함\n",
        "early_stopping = keras.callbacks.EarlyStopping(patience=20, restore_best_weights=True)"
      ]
    },
    {
      "cell_type": "code",
      "execution_count": null,
      "metadata": {
        "id": "U9A3SDOUri8P",
        "colab": {
          "base_uri": "https://localhost:8080/"
        },
        "outputId": "ebeaff88-2a9d-46cc-f151-ff0441d329df"
      },
      "outputs": [
        {
          "output_type": "stream",
          "name": "stdout",
          "text": [
            "Epoch 1/30\n",
            "352/352 [==============================] - 29s 83ms/step - loss: 1.7323 - acc: 0.3713 - val_loss: 4.9996 - val_acc: 0.1858 - lr: 0.0010\n",
            "Epoch 2/30\n",
            "352/352 [==============================] - 26s 75ms/step - loss: 1.4242 - acc: 0.4884 - val_loss: 1.2029 - val_acc: 0.5604 - lr: 0.0010\n",
            "Epoch 3/30\n",
            "352/352 [==============================] - 26s 75ms/step - loss: 1.2579 - acc: 0.5505 - val_loss: 1.0726 - val_acc: 0.6086 - lr: 0.0010\n",
            "Epoch 4/30\n",
            "352/352 [==============================] - 27s 75ms/step - loss: 1.1440 - acc: 0.5941 - val_loss: 1.0792 - val_acc: 0.6386 - lr: 0.0010\n",
            "Epoch 5/30\n",
            "352/352 [==============================] - 26s 75ms/step - loss: 1.0532 - acc: 0.6286 - val_loss: 0.9855 - val_acc: 0.6662 - lr: 0.0010\n",
            "Epoch 6/30\n",
            "352/352 [==============================] - 26s 75ms/step - loss: 0.9936 - acc: 0.6544 - val_loss: 0.9603 - val_acc: 0.6806 - lr: 0.0010\n",
            "Epoch 7/30\n",
            "352/352 [==============================] - 27s 78ms/step - loss: 0.9489 - acc: 0.6675 - val_loss: 0.8704 - val_acc: 0.6998 - lr: 0.0010\n",
            "Epoch 8/30\n",
            "352/352 [==============================] - 27s 76ms/step - loss: 0.9064 - acc: 0.6858 - val_loss: 0.9006 - val_acc: 0.6916 - lr: 0.0010\n",
            "Epoch 9/30\n",
            "352/352 [==============================] - 26s 75ms/step - loss: 0.8762 - acc: 0.6975 - val_loss: 0.8494 - val_acc: 0.7084 - lr: 0.0010\n",
            "Epoch 10/30\n",
            "352/352 [==============================] - 27s 75ms/step - loss: 0.8482 - acc: 0.7086 - val_loss: 0.8777 - val_acc: 0.7098 - lr: 0.0010\n",
            "Epoch 11/30\n",
            "352/352 [==============================] - 27s 75ms/step - loss: 0.8274 - acc: 0.7150 - val_loss: 0.7865 - val_acc: 0.7384 - lr: 0.0010\n",
            "Epoch 12/30\n",
            "352/352 [==============================] - 27s 76ms/step - loss: 0.7574 - acc: 0.7404 - val_loss: 0.6524 - val_acc: 0.7710 - lr: 5.0000e-04\n",
            "Epoch 13/30\n",
            "352/352 [==============================] - 26s 74ms/step - loss: 0.7329 - acc: 0.7493 - val_loss: 0.6290 - val_acc: 0.7794 - lr: 5.0000e-04\n",
            "Epoch 14/30\n",
            "352/352 [==============================] - 26s 74ms/step - loss: 0.7115 - acc: 0.7542 - val_loss: 0.6761 - val_acc: 0.7808 - lr: 5.0000e-04\n",
            "Epoch 15/30\n",
            "352/352 [==============================] - 30s 85ms/step - loss: 0.7006 - acc: 0.7592 - val_loss: 0.6800 - val_acc: 0.7668 - lr: 5.0000e-04\n",
            "Epoch 16/30\n",
            "352/352 [==============================] - 26s 74ms/step - loss: 0.6931 - acc: 0.7611 - val_loss: 0.6215 - val_acc: 0.7926 - lr: 5.0000e-04\n",
            "Epoch 17/30\n",
            "352/352 [==============================] - 27s 76ms/step - loss: 0.6776 - acc: 0.7657 - val_loss: 0.6470 - val_acc: 0.7832 - lr: 5.0000e-04\n",
            "Epoch 18/30\n",
            "352/352 [==============================] - 27s 77ms/step - loss: 0.6758 - acc: 0.7678 - val_loss: 0.5950 - val_acc: 0.8006 - lr: 5.0000e-04\n",
            "Epoch 19/30\n",
            "352/352 [==============================] - 26s 74ms/step - loss: 0.6616 - acc: 0.7723 - val_loss: 0.6899 - val_acc: 0.7696 - lr: 5.0000e-04\n",
            "Epoch 20/30\n",
            "352/352 [==============================] - 26s 75ms/step - loss: 0.6536 - acc: 0.7749 - val_loss: 0.6614 - val_acc: 0.7776 - lr: 5.0000e-04\n",
            "Epoch 21/30\n",
            "352/352 [==============================] - 26s 75ms/step - loss: 0.6390 - acc: 0.7784 - val_loss: 0.7329 - val_acc: 0.7728 - lr: 5.0000e-04\n",
            "Epoch 22/30\n",
            "352/352 [==============================] - 26s 75ms/step - loss: 0.6125 - acc: 0.7878 - val_loss: 0.5803 - val_acc: 0.8118 - lr: 1.0000e-04\n",
            "Epoch 23/30\n",
            "352/352 [==============================] - 26s 75ms/step - loss: 0.5953 - acc: 0.7930 - val_loss: 0.5410 - val_acc: 0.8206 - lr: 1.0000e-04\n",
            "Epoch 24/30\n",
            "352/352 [==============================] - 26s 74ms/step - loss: 0.5840 - acc: 0.7965 - val_loss: 0.5721 - val_acc: 0.8108 - lr: 1.0000e-04\n",
            "Epoch 25/30\n",
            "352/352 [==============================] - 26s 74ms/step - loss: 0.5835 - acc: 0.7982 - val_loss: 0.5799 - val_acc: 0.8064 - lr: 1.0000e-04\n",
            "Epoch 26/30\n",
            "352/352 [==============================] - 26s 75ms/step - loss: 0.5778 - acc: 0.8000 - val_loss: 0.5297 - val_acc: 0.8246 - lr: 1.0000e-04\n",
            "Epoch 27/30\n",
            "352/352 [==============================] - 26s 73ms/step - loss: 0.5748 - acc: 0.8001 - val_loss: 0.5573 - val_acc: 0.8148 - lr: 1.0000e-04\n",
            "Epoch 28/30\n",
            "352/352 [==============================] - 26s 75ms/step - loss: 0.5763 - acc: 0.8024 - val_loss: 0.5159 - val_acc: 0.8266 - lr: 1.0000e-04\n",
            "Epoch 29/30\n",
            "352/352 [==============================] - 26s 74ms/step - loss: 0.5685 - acc: 0.8020 - val_loss: 0.5470 - val_acc: 0.8174 - lr: 1.0000e-04\n",
            "Epoch 30/30\n",
            "352/352 [==============================] - 26s 74ms/step - loss: 0.5609 - acc: 0.8048 - val_loss: 0.5432 - val_acc: 0.8182 - lr: 1.0000e-04\n"
          ]
        }
      ],
      "source": [
        "from keras.callbacks import LearningRateScheduler\n",
        "\n",
        "# 변형된 이미지 추가 버전\n",
        "history = model.fit(\n",
        "    datagen.flow(train_images_split, train_labels_split, batch_size=128),\n",
        "    epochs=30,\n",
        "    validation_data=(val_images_split, val_labels_split),  # 검증 데이터를 직접 전달\n",
        "    callbacks=[checkpoint, early_stopping, LearningRateScheduler(lr_schedule)],\n",
        ")\n",
        "\n",
        "# 학습률 갈수록 작게 조정 버전\n",
        "# history = model.fit(train_images, train_labels, batch_size=128, epochs=30,  validation_split=0.1,\n",
        "#                     callbacks = [checkpoint, early_stopping, LearningRateScheduler(lr_schedule)])\n",
        "\n",
        "# # 기본버전\n",
        "# history = model.fit(train_images, train_labels, batch_size=128, epochs=30,  validation_split=0.1,\n",
        "#                     callbacks = [checkpoint, early_stopping])"
      ]
    },
    {
      "cell_type": "code",
      "execution_count": null,
      "metadata": {
        "id": "SKGWJdbb3kN_"
      },
      "outputs": [],
      "source": [
        "from keras.models import load_model\n",
        "\n",
        "model.save('CNN_CIFAR10.h5')\n",
        "model = load_model('CNN_CIFAR10.h5')"
      ]
    },
    {
      "cell_type": "code",
      "execution_count": null,
      "metadata": {
        "id": "K2JsOHgO3lSW",
        "colab": {
          "base_uri": "https://localhost:8080/",
          "height": 468
        },
        "outputId": "c90b42da-3fca-42f1-988c-4a26e813ae73"
      },
      "outputs": [
        {
          "output_type": "display_data",
          "data": {
            "text/plain": [
              "<Figure size 640x480 with 2 Axes>"
            ],
            "image/png": "[encoded data removed]"
          },
          "metadata": {}
        },
        {
          "output_type": "stream",
          "name": "stdout",
          "text": [
            "313/313 - 1s - loss: 0.5840 - acc: 0.8121 - 1s/epoch - 4ms/step\n"
          ]
        }
      ],
      "source": [
        "import matplotlib.pyplot as plt\n",
        "\n",
        "plt.figure()\n",
        "\n",
        "# 정확도 그래프\n",
        "plt.subplot(1, 2, 1)\n",
        "plt.plot(history.history['acc'], label='acc')\n",
        "plt.plot(history.history['val_acc'], label='val_acc')\n",
        "plt.ylabel('accuracy')\n",
        "plt.xlabel('epoch')\n",
        "plt.legend(loc='best')\n",
        "\n",
        "# 손실 그래프\n",
        "plt.subplot(1, 2, 2)\n",
        "plt.plot(history.history['loss'], label='loss')\n",
        "plt.plot(history.history['val_loss'], label='val_loss')\n",
        "plt.ylabel('loss')\n",
        "plt.xlabel('epoch')\n",
        "plt.legend(loc='best')\n",
        "\n",
        "plt.show()\n",
        "\n",
        "test_loss, test_acc = model.evaluate(test_images,  test_labels, verbose=2)"
      ]
    }
  ],
  "metadata": {
    "colab": {
      "provenance": [],
      "toc_visible": true,
      "gpuType": "T4"
    },
    "kernelspec": {
      "display_name": "Python 3",
      "name": "python3"
    },
    "language_info": {
      "name": "python"
    },
    "accelerator": "GPU",
    "gpuClass": "standard"
  },
  "nbformat": 4,
  "nbformat_minor": 0
}