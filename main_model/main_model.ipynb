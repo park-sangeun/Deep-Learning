{
  "cells": [
    {
      "cell_type": "code",
      "execution_count": 1,
      "metadata": {
        "colab": {
          "base_uri": "https://localhost:8080/"
        },
        "id": "CwX92Dgf3QZq",
        "outputId": "d3e7fb45-b8e9-418d-d4b3-41b8d53d151b"
      },
      "outputs": [
        {
          "name": "stdout",
          "output_type": "stream",
          "text": [
            "Downloading data from https://www.cs.toronto.edu/~kriz/cifar-10-python.tar.gz\n",
            "170498071/170498071 [==============================] - 2s 0us/step\n"
          ]
        }
      ],
      "source": [
        "from keras.datasets import cifar10\n",
        "\n",
        "(train_images, train_labels), (test_images, test_labels) = cifar10.load_data()"
      ]
    },
    {
      "cell_type": "code",
      "execution_count": 2,
      "metadata": {
        "id": "KAflhzsZ3TN1"
      },
      "outputs": [],
      "source": [
        "from keras.utils import to_categorical\n",
        "\n",
        "train_images = train_images.astype('float32') / 255.0\n",
        "test_images = test_images.astype('float32') / 255.0\n",
        "\n",
        "train_labels = to_categorical(train_labels, 10)\n",
        "test_labels = to_categorical(test_labels, 10)"
      ]
    },
    {
      "cell_type": "code",
      "execution_count": 4,
      "metadata": {
        "id": "1yMHoiDR3W1N"
      },
      "outputs": [],
      "source": [
        "from keras.models import Sequential\n",
        "from keras.layers import Conv2D, MaxPool2D, Dropout, Flatten, Dense, BatchNormalization, GlobalAveragePooling2D\n",
        "\n",
        "model = Sequential()\n",
        "\n",
        "# Convolutional Block (Conv-Conv-Pool-Dropout)\n",
        "model.add(Conv2D(64, (3, 3), activation='relu', padding='same', input_shape=(32, 32, 3)))\n",
        "model.add(BatchNormalization())\n",
        "model.add(Conv2D(64, (3, 3), activation='relu', padding='same'))\n",
        "model.add(MaxPool2D(pool_size=(2, 2)))\n",
        "model.add(Dropout(0.25))\n",
        "\n",
        "# Convolutional Block (Conv-Conv-Pool-Dropout)\n",
        "model.add(Conv2D(128, (3, 3), activation='relu', padding='same'))\n",
        "model.add(BatchNormalization())\n",
        "model.add(Conv2D(128, (3, 3), activation='relu', padding='same'))\n",
        "model.add(MaxPool2D(pool_size=(2, 2)))\n",
        "model.add(Dropout(0.25))\n",
        "\n",
        "model.add(Conv2D(256, (3, 3), padding='same', activation='relu'))\n",
        "model.add(BatchNormalization())\n",
        "model.add(MaxPool2D(pool_size=(2, 2)))\n",
        "model.add(Dropout(0.25))\n",
        "\n",
        "# Classifying\n",
        "model.add(GlobalAveragePooling2D()) # change this line\n",
        "model.add(Dense(512, activation='relu'))\n",
        "model.add(Dropout(0.5))\n",
        "model.add(Dense(10, activation='softmax'))"
      ]
    },
    {
      "cell_type": "code",
      "execution_count": 5,
      "metadata": {
        "colab": {
          "base_uri": "https://localhost:8080/"
        },
        "id": "lgb6I6rm3c8X",
        "outputId": "3f462795-b8ce-4488-8144-f52566fa0348"
      },
      "outputs": [
        {
          "name": "stderr",
          "output_type": "stream",
          "text": [
            "/usr/local/lib/python3.10/dist-packages/keras/optimizers/legacy/adam.py:117: UserWarning: The `lr` argument is deprecated, use `learning_rate` instead.\n",
            "  super().__init__(name, **kwargs)\n"
          ]
        }
      ],
      "source": [
        "from keras.optimizers import Adam\n",
        "\n",
        "model.compile(loss='categorical_crossentropy', optimizer=Adam(lr=0.001), metrics=['acc'])"
      ]
    },
    {
      "cell_type": "code",
      "execution_count": 6,
      "metadata": {
        "id": "Y91gJ8MB3hpV"
      },
      "outputs": [],
      "source": [
        "from keras.preprocessing.image import ImageDataGenerator\n",
        "import keras\n",
        "\n",
        "def lr_schedule(epoch):\n",
        "    lrate = 0.001\n",
        "    if epoch > 10:\n",
        "        lrate = 0.0005\n",
        "    if epoch > 20:\n",
        "        lrate = 0.0001\n",
        "    if epoch > 30:\n",
        "        lrate = 0.00005\n",
        "    return lrate\n",
        "\n",
        "checkpoint = keras.callbacks.ModelCheckpoint('best_cnn_model.h5', save_best_only=True)\n",
        "# 100번의 연속적인 epoch 동안 개선이 없을 때 학습이 중단되도록 함\n",
        "early_stopping = keras.callbacks.EarlyStopping(patience=100, restore_best_weights=True)"
      ]
    },
    {
      "cell_type": "code",
      "execution_count": 7,
      "metadata": {
        "colab": {
          "base_uri": "https://localhost:8080/"
        },
        "id": "U9A3SDOUri8P",
        "outputId": "4c7fb9b6-e4f2-4c18-de3c-b050329a06fa"
      },
      "outputs": [
        {
          "name": "stdout",
          "output_type": "stream",
          "text": [
            "Epoch 1/150\n",
            "352/352 [==============================] - 22s 35ms/step - loss: 1.4510 - acc: 0.4706 - val_loss: 4.1325 - val_acc: 0.1002 - lr: 0.0010\n",
            "Epoch 2/150\n",
            "352/352 [==============================] - 11s 32ms/step - loss: 1.0176 - acc: 0.6352 - val_loss: 1.0241 - val_acc: 0.6376 - lr: 0.0010\n",
            "Epoch 3/150\n",
            "352/352 [==============================] - 11s 32ms/step - loss: 0.8535 - acc: 0.6984 - val_loss: 0.9478 - val_acc: 0.6670 - lr: 0.0010\n",
            "Epoch 4/150\n",
            "352/352 [==============================] - 11s 31ms/step - loss: 0.7412 - acc: 0.7397 - val_loss: 0.9498 - val_acc: 0.6838 - lr: 0.0010\n",
            "Epoch 5/150\n",
            "352/352 [==============================] - 11s 32ms/step - loss: 0.6562 - acc: 0.7711 - val_loss: 0.8296 - val_acc: 0.7246 - lr: 0.0010\n",
            "Epoch 6/150\n",
            "352/352 [==============================] - 11s 32ms/step - loss: 0.5844 - acc: 0.7976 - val_loss: 1.0789 - val_acc: 0.6690 - lr: 0.0010\n",
            "Epoch 7/150\n",
            "352/352 [==============================] - 12s 35ms/step - loss: 0.5424 - acc: 0.8113 - val_loss: 0.6323 - val_acc: 0.7808 - lr: 0.0010\n",
            "Epoch 8/150\n",
            "352/352 [==============================] - 11s 32ms/step - loss: 0.5016 - acc: 0.8272 - val_loss: 0.7619 - val_acc: 0.7496 - lr: 0.0010\n",
            "Epoch 9/150\n",
            "352/352 [==============================] - 11s 33ms/step - loss: 0.4668 - acc: 0.8374 - val_loss: 0.5686 - val_acc: 0.8140 - lr: 0.0010\n",
            "Epoch 10/150\n",
            "352/352 [==============================] - 12s 33ms/step - loss: 0.4375 - acc: 0.8492 - val_loss: 0.6436 - val_acc: 0.7798 - lr: 0.0010\n",
            "Epoch 11/150\n",
            "352/352 [==============================] - 11s 32ms/step - loss: 0.4051 - acc: 0.8587 - val_loss: 0.6505 - val_acc: 0.8008 - lr: 0.0010\n",
            "Epoch 12/150\n",
            "352/352 [==============================] - 11s 32ms/step - loss: 0.3262 - acc: 0.8868 - val_loss: 0.4924 - val_acc: 0.8458 - lr: 5.0000e-04\n",
            "Epoch 13/150\n",
            "352/352 [==============================] - 11s 31ms/step - loss: 0.2986 - acc: 0.8949 - val_loss: 0.5112 - val_acc: 0.8416 - lr: 5.0000e-04\n",
            "Epoch 14/150\n",
            "352/352 [==============================] - 11s 31ms/step - loss: 0.2874 - acc: 0.8990 - val_loss: 0.5345 - val_acc: 0.8450 - lr: 5.0000e-04\n",
            "Epoch 15/150\n",
            "352/352 [==============================] - 11s 32ms/step - loss: 0.2666 - acc: 0.9072 - val_loss: 0.5531 - val_acc: 0.8334 - lr: 5.0000e-04\n",
            "Epoch 16/150\n",
            "352/352 [==============================] - 11s 32ms/step - loss: 0.2599 - acc: 0.9093 - val_loss: 0.5224 - val_acc: 0.8462 - lr: 5.0000e-04\n",
            "Epoch 17/150\n",
            "352/352 [==============================] - 11s 32ms/step - loss: 0.2399 - acc: 0.9143 - val_loss: 0.5216 - val_acc: 0.8458 - lr: 5.0000e-04\n",
            "Epoch 18/150\n",
            "352/352 [==============================] - 11s 32ms/step - loss: 0.2304 - acc: 0.9190 - val_loss: 0.4813 - val_acc: 0.8576 - lr: 5.0000e-04\n",
            "Epoch 19/150\n",
            "352/352 [==============================] - 11s 32ms/step - loss: 0.2252 - acc: 0.9208 - val_loss: 0.5359 - val_acc: 0.8438 - lr: 5.0000e-04\n",
            "Epoch 20/150\n",
            "352/352 [==============================] - 11s 31ms/step - loss: 0.2173 - acc: 0.9226 - val_loss: 0.8427 - val_acc: 0.7820 - lr: 5.0000e-04\n",
            "Epoch 21/150\n",
            "352/352 [==============================] - 11s 32ms/step - loss: 0.2087 - acc: 0.9254 - val_loss: 0.5354 - val_acc: 0.8452 - lr: 5.0000e-04\n",
            "Epoch 22/150\n",
            "352/352 [==============================] - 11s 32ms/step - loss: 0.1631 - acc: 0.9420 - val_loss: 0.4737 - val_acc: 0.8718 - lr: 1.0000e-04\n",
            "Epoch 23/150\n",
            "352/352 [==============================] - 11s 31ms/step - loss: 0.1552 - acc: 0.9450 - val_loss: 0.4983 - val_acc: 0.8662 - lr: 1.0000e-04\n",
            "Epoch 24/150\n",
            "352/352 [==============================] - 11s 32ms/step - loss: 0.1416 - acc: 0.9496 - val_loss: 0.4879 - val_acc: 0.8716 - lr: 1.0000e-04\n",
            "Epoch 25/150\n",
            "352/352 [==============================] - 11s 31ms/step - loss: 0.1413 - acc: 0.9500 - val_loss: 0.4922 - val_acc: 0.8658 - lr: 1.0000e-04\n",
            "Epoch 26/150\n",
            "352/352 [==============================] - 11s 32ms/step - loss: 0.1349 - acc: 0.9524 - val_loss: 0.4776 - val_acc: 0.8744 - lr: 1.0000e-04\n",
            "Epoch 27/150\n",
            "352/352 [==============================] - 11s 31ms/step - loss: 0.1306 - acc: 0.9543 - val_loss: 0.4829 - val_acc: 0.8760 - lr: 1.0000e-04\n",
            "Epoch 28/150\n",
            "352/352 [==============================] - 11s 32ms/step - loss: 0.1297 - acc: 0.9536 - val_loss: 0.4962 - val_acc: 0.8718 - lr: 1.0000e-04\n",
            "Epoch 29/150\n",
            "352/352 [==============================] - 11s 32ms/step - loss: 0.1272 - acc: 0.9556 - val_loss: 0.4970 - val_acc: 0.8686 - lr: 1.0000e-04\n",
            "Epoch 30/150\n",
            "352/352 [==============================] - 11s 32ms/step - loss: 0.1245 - acc: 0.9552 - val_loss: 0.4919 - val_acc: 0.8726 - lr: 1.0000e-04\n",
            "Epoch 31/150\n",
            "352/352 [==============================] - 11s 32ms/step - loss: 0.1191 - acc: 0.9578 - val_loss: 0.4937 - val_acc: 0.8742 - lr: 1.0000e-04\n",
            "Epoch 32/150\n",
            "352/352 [==============================] - 11s 31ms/step - loss: 0.1172 - acc: 0.9580 - val_loss: 0.4897 - val_acc: 0.8724 - lr: 5.0000e-05\n",
            "Epoch 33/150\n",
            "352/352 [==============================] - 11s 31ms/step - loss: 0.1160 - acc: 0.9591 - val_loss: 0.4931 - val_acc: 0.8746 - lr: 5.0000e-05\n",
            "Epoch 34/150\n",
            "352/352 [==============================] - 11s 32ms/step - loss: 0.1151 - acc: 0.9592 - val_loss: 0.4944 - val_acc: 0.8750 - lr: 5.0000e-05\n",
            "Epoch 35/150\n",
            "352/352 [==============================] - 11s 31ms/step - loss: 0.1107 - acc: 0.9609 - val_loss: 0.4916 - val_acc: 0.8754 - lr: 5.0000e-05\n",
            "Epoch 36/150\n",
            "352/352 [==============================] - 11s 32ms/step - loss: 0.1086 - acc: 0.9615 - val_loss: 0.4987 - val_acc: 0.8742 - lr: 5.0000e-05\n",
            "Epoch 37/150\n",
            "352/352 [==============================] - 11s 31ms/step - loss: 0.1077 - acc: 0.9614 - val_loss: 0.5032 - val_acc: 0.8750 - lr: 5.0000e-05\n",
            "Epoch 38/150\n",
            "352/352 [==============================] - 11s 31ms/step - loss: 0.1065 - acc: 0.9622 - val_loss: 0.5041 - val_acc: 0.8716 - lr: 5.0000e-05\n",
            "Epoch 39/150\n",
            "352/352 [==============================] - 11s 32ms/step - loss: 0.1021 - acc: 0.9645 - val_loss: 0.5068 - val_acc: 0.8724 - lr: 5.0000e-05\n",
            "Epoch 40/150\n",
            "352/352 [==============================] - 11s 32ms/step - loss: 0.1053 - acc: 0.9630 - val_loss: 0.4983 - val_acc: 0.8724 - lr: 5.0000e-05\n",
            "Epoch 41/150\n",
            "352/352 [==============================] - 11s 32ms/step - loss: 0.1000 - acc: 0.9644 - val_loss: 0.5063 - val_acc: 0.8730 - lr: 5.0000e-05\n",
            "Epoch 42/150\n",
            "352/352 [==============================] - 11s 32ms/step - loss: 0.0999 - acc: 0.9642 - val_loss: 0.5030 - val_acc: 0.8748 - lr: 5.0000e-05\n",
            "Epoch 43/150\n",
            "352/352 [==============================] - 11s 32ms/step - loss: 0.0986 - acc: 0.9652 - val_loss: 0.5181 - val_acc: 0.8740 - lr: 5.0000e-05\n",
            "Epoch 44/150\n",
            "352/352 [==============================] - 11s 31ms/step - loss: 0.0995 - acc: 0.9644 - val_loss: 0.4906 - val_acc: 0.8790 - lr: 5.0000e-05\n",
            "Epoch 45/150\n",
            "352/352 [==============================] - 11s 32ms/step - loss: 0.0981 - acc: 0.9645 - val_loss: 0.5135 - val_acc: 0.8734 - lr: 5.0000e-05\n",
            "Epoch 46/150\n",
            "352/352 [==============================] - 11s 31ms/step - loss: 0.0980 - acc: 0.9652 - val_loss: 0.5155 - val_acc: 0.8720 - lr: 5.0000e-05\n",
            "Epoch 47/150\n",
            "352/352 [==============================] - 11s 32ms/step - loss: 0.0935 - acc: 0.9662 - val_loss: 0.5084 - val_acc: 0.8736 - lr: 5.0000e-05\n",
            "Epoch 48/150\n",
            "352/352 [==============================] - 11s 31ms/step - loss: 0.0968 - acc: 0.9662 - val_loss: 0.5110 - val_acc: 0.8746 - lr: 5.0000e-05\n",
            "Epoch 49/150\n",
            "352/352 [==============================] - 11s 32ms/step - loss: 0.0929 - acc: 0.9671 - val_loss: 0.5124 - val_acc: 0.8756 - lr: 5.0000e-05\n",
            "Epoch 50/150\n",
            "352/352 [==============================] - 11s 32ms/step - loss: 0.0931 - acc: 0.9670 - val_loss: 0.5245 - val_acc: 0.8722 - lr: 5.0000e-05\n",
            "Epoch 51/150\n",
            "352/352 [==============================] - 11s 32ms/step - loss: 0.0923 - acc: 0.9669 - val_loss: 0.5220 - val_acc: 0.8714 - lr: 5.0000e-05\n",
            "Epoch 52/150\n",
            "352/352 [==============================] - 11s 32ms/step - loss: 0.0951 - acc: 0.9662 - val_loss: 0.5358 - val_acc: 0.8734 - lr: 5.0000e-05\n",
            "Epoch 53/150\n",
            "352/352 [==============================] - 11s 32ms/step - loss: 0.0913 - acc: 0.9675 - val_loss: 0.5202 - val_acc: 0.8736 - lr: 5.0000e-05\n",
            "Epoch 54/150\n",
            "352/352 [==============================] - 11s 32ms/step - loss: 0.0916 - acc: 0.9681 - val_loss: 0.5363 - val_acc: 0.8718 - lr: 5.0000e-05\n",
            "Epoch 55/150\n",
            "352/352 [==============================] - 11s 31ms/step - loss: 0.0888 - acc: 0.9689 - val_loss: 0.5323 - val_acc: 0.8756 - lr: 5.0000e-05\n",
            "Epoch 56/150\n",
            "352/352 [==============================] - 11s 32ms/step - loss: 0.0883 - acc: 0.9684 - val_loss: 0.5231 - val_acc: 0.8724 - lr: 5.0000e-05\n",
            "Epoch 57/150\n",
            "352/352 [==============================] - 11s 32ms/step - loss: 0.0894 - acc: 0.9684 - val_loss: 0.5412 - val_acc: 0.8760 - lr: 5.0000e-05\n",
            "Epoch 58/150\n",
            "352/352 [==============================] - 11s 32ms/step - loss: 0.0888 - acc: 0.9678 - val_loss: 0.5335 - val_acc: 0.8738 - lr: 5.0000e-05\n",
            "Epoch 59/150\n",
            "352/352 [==============================] - 11s 32ms/step - loss: 0.0848 - acc: 0.9704 - val_loss: 0.5324 - val_acc: 0.8750 - lr: 5.0000e-05\n",
            "Epoch 60/150\n",
            "352/352 [==============================] - 11s 32ms/step - loss: 0.0866 - acc: 0.9687 - val_loss: 0.5344 - val_acc: 0.8746 - lr: 5.0000e-05\n",
            "Epoch 61/150\n",
            "352/352 [==============================] - 11s 32ms/step - loss: 0.0843 - acc: 0.9704 - val_loss: 0.5508 - val_acc: 0.8730 - lr: 5.0000e-05\n",
            "Epoch 62/150\n",
            "352/352 [==============================] - 11s 31ms/step - loss: 0.0835 - acc: 0.9704 - val_loss: 0.5461 - val_acc: 0.8718 - lr: 5.0000e-05\n",
            "Epoch 63/150\n",
            "352/352 [==============================] - 11s 32ms/step - loss: 0.0845 - acc: 0.9701 - val_loss: 0.5413 - val_acc: 0.8758 - lr: 5.0000e-05\n",
            "Epoch 64/150\n",
            "352/352 [==============================] - 11s 32ms/step - loss: 0.0828 - acc: 0.9711 - val_loss: 0.5454 - val_acc: 0.8700 - lr: 5.0000e-05\n",
            "Epoch 65/150\n",
            "352/352 [==============================] - 11s 32ms/step - loss: 0.0838 - acc: 0.9710 - val_loss: 0.5330 - val_acc: 0.8766 - lr: 5.0000e-05\n",
            "Epoch 66/150\n",
            "352/352 [==============================] - 11s 31ms/step - loss: 0.0806 - acc: 0.9710 - val_loss: 0.5400 - val_acc: 0.8728 - lr: 5.0000e-05\n",
            "Epoch 67/150\n",
            "352/352 [==============================] - 11s 32ms/step - loss: 0.0834 - acc: 0.9703 - val_loss: 0.5355 - val_acc: 0.8768 - lr: 5.0000e-05\n",
            "Epoch 68/150\n",
            "352/352 [==============================] - 11s 32ms/step - loss: 0.0806 - acc: 0.9716 - val_loss: 0.5483 - val_acc: 0.8742 - lr: 5.0000e-05\n",
            "Epoch 69/150\n",
            "352/352 [==============================] - 11s 32ms/step - loss: 0.0790 - acc: 0.9725 - val_loss: 0.5520 - val_acc: 0.8748 - lr: 5.0000e-05\n",
            "Epoch 70/150\n",
            "352/352 [==============================] - 11s 32ms/step - loss: 0.0826 - acc: 0.9704 - val_loss: 0.5466 - val_acc: 0.8754 - lr: 5.0000e-05\n",
            "Epoch 71/150\n",
            "352/352 [==============================] - 11s 32ms/step - loss: 0.0805 - acc: 0.9715 - val_loss: 0.5485 - val_acc: 0.8720 - lr: 5.0000e-05\n",
            "Epoch 72/150\n",
            "352/352 [==============================] - 11s 32ms/step - loss: 0.0794 - acc: 0.9717 - val_loss: 0.5552 - val_acc: 0.8730 - lr: 5.0000e-05\n",
            "Epoch 73/150\n",
            "352/352 [==============================] - 11s 32ms/step - loss: 0.0777 - acc: 0.9726 - val_loss: 0.5466 - val_acc: 0.8768 - lr: 5.0000e-05\n",
            "Epoch 74/150\n",
            "352/352 [==============================] - 11s 32ms/step - loss: 0.0803 - acc: 0.9720 - val_loss: 0.5474 - val_acc: 0.8766 - lr: 5.0000e-05\n",
            "Epoch 75/150\n",
            "352/352 [==============================] - 11s 32ms/step - loss: 0.0790 - acc: 0.9721 - val_loss: 0.5356 - val_acc: 0.8764 - lr: 5.0000e-05\n",
            "Epoch 76/150\n",
            "352/352 [==============================] - 11s 32ms/step - loss: 0.0758 - acc: 0.9745 - val_loss: 0.5402 - val_acc: 0.8756 - lr: 5.0000e-05\n",
            "Epoch 77/150\n",
            "352/352 [==============================] - 11s 32ms/step - loss: 0.0735 - acc: 0.9744 - val_loss: 0.5682 - val_acc: 0.8704 - lr: 5.0000e-05\n",
            "Epoch 78/150\n",
            "352/352 [==============================] - 11s 32ms/step - loss: 0.0771 - acc: 0.9718 - val_loss: 0.5346 - val_acc: 0.8774 - lr: 5.0000e-05\n",
            "Epoch 79/150\n",
            "352/352 [==============================] - 11s 32ms/step - loss: 0.0756 - acc: 0.9739 - val_loss: 0.5517 - val_acc: 0.8744 - lr: 5.0000e-05\n",
            "Epoch 80/150\n",
            "352/352 [==============================] - 11s 32ms/step - loss: 0.0722 - acc: 0.9750 - val_loss: 0.5622 - val_acc: 0.8764 - lr: 5.0000e-05\n",
            "Epoch 81/150\n",
            "352/352 [==============================] - 11s 32ms/step - loss: 0.0738 - acc: 0.9738 - val_loss: 0.5592 - val_acc: 0.8768 - lr: 5.0000e-05\n",
            "Epoch 82/150\n",
            "352/352 [==============================] - 11s 32ms/step - loss: 0.0741 - acc: 0.9730 - val_loss: 0.5528 - val_acc: 0.8744 - lr: 5.0000e-05\n",
            "Epoch 83/150\n",
            "352/352 [==============================] - 11s 32ms/step - loss: 0.0717 - acc: 0.9750 - val_loss: 0.5505 - val_acc: 0.8760 - lr: 5.0000e-05\n",
            "Epoch 84/150\n",
            "352/352 [==============================] - 11s 32ms/step - loss: 0.0728 - acc: 0.9743 - val_loss: 0.5488 - val_acc: 0.8782 - lr: 5.0000e-05\n",
            "Epoch 85/150\n",
            "352/352 [==============================] - 11s 32ms/step - loss: 0.0719 - acc: 0.9741 - val_loss: 0.5461 - val_acc: 0.8768 - lr: 5.0000e-05\n",
            "Epoch 86/150\n",
            "352/352 [==============================] - 11s 32ms/step - loss: 0.0689 - acc: 0.9765 - val_loss: 0.5804 - val_acc: 0.8756 - lr: 5.0000e-05\n",
            "Epoch 87/150\n",
            "352/352 [==============================] - 11s 32ms/step - loss: 0.0683 - acc: 0.9757 - val_loss: 0.5661 - val_acc: 0.8762 - lr: 5.0000e-05\n",
            "Epoch 88/150\n",
            "352/352 [==============================] - 11s 32ms/step - loss: 0.0707 - acc: 0.9751 - val_loss: 0.5731 - val_acc: 0.8730 - lr: 5.0000e-05\n",
            "Epoch 89/150\n",
            "352/352 [==============================] - 11s 32ms/step - loss: 0.0676 - acc: 0.9764 - val_loss: 0.5513 - val_acc: 0.8778 - lr: 5.0000e-05\n",
            "Epoch 90/150\n",
            "352/352 [==============================] - 11s 32ms/step - loss: 0.0668 - acc: 0.9769 - val_loss: 0.5595 - val_acc: 0.8800 - lr: 5.0000e-05\n",
            "Epoch 91/150\n",
            "352/352 [==============================] - 11s 32ms/step - loss: 0.0686 - acc: 0.9761 - val_loss: 0.5775 - val_acc: 0.8724 - lr: 5.0000e-05\n",
            "Epoch 92/150\n",
            "352/352 [==============================] - 11s 33ms/step - loss: 0.0693 - acc: 0.9756 - val_loss: 0.5656 - val_acc: 0.8750 - lr: 5.0000e-05\n",
            "Epoch 93/150\n",
            "352/352 [==============================] - 11s 32ms/step - loss: 0.0659 - acc: 0.9773 - val_loss: 0.5624 - val_acc: 0.8794 - lr: 5.0000e-05\n",
            "Epoch 94/150\n",
            "352/352 [==============================] - 12s 33ms/step - loss: 0.0666 - acc: 0.9773 - val_loss: 0.5703 - val_acc: 0.8772 - lr: 5.0000e-05\n",
            "Epoch 95/150\n",
            "352/352 [==============================] - 11s 32ms/step - loss: 0.0666 - acc: 0.9773 - val_loss: 0.5829 - val_acc: 0.8748 - lr: 5.0000e-05\n",
            "Epoch 96/150\n",
            "352/352 [==============================] - 11s 32ms/step - loss: 0.0680 - acc: 0.9762 - val_loss: 0.5667 - val_acc: 0.8782 - lr: 5.0000e-05\n",
            "Epoch 97/150\n",
            "352/352 [==============================] - 11s 33ms/step - loss: 0.0660 - acc: 0.9777 - val_loss: 0.5898 - val_acc: 0.8732 - lr: 5.0000e-05\n",
            "Epoch 98/150\n",
            "352/352 [==============================] - 11s 33ms/step - loss: 0.0675 - acc: 0.9765 - val_loss: 0.5838 - val_acc: 0.8750 - lr: 5.0000e-05\n",
            "Epoch 99/150\n",
            "352/352 [==============================] - 11s 33ms/step - loss: 0.0666 - acc: 0.9771 - val_loss: 0.5673 - val_acc: 0.8766 - lr: 5.0000e-05\n",
            "Epoch 100/150\n",
            "352/352 [==============================] - 11s 33ms/step - loss: 0.0642 - acc: 0.9774 - val_loss: 0.5782 - val_acc: 0.8760 - lr: 5.0000e-05\n",
            "Epoch 101/150\n",
            "352/352 [==============================] - 11s 33ms/step - loss: 0.0642 - acc: 0.9774 - val_loss: 0.5657 - val_acc: 0.8788 - lr: 5.0000e-05\n",
            "Epoch 102/150\n",
            "352/352 [==============================] - 11s 33ms/step - loss: 0.0657 - acc: 0.9766 - val_loss: 0.5625 - val_acc: 0.8786 - lr: 5.0000e-05\n",
            "Epoch 103/150\n",
            "352/352 [==============================] - 11s 33ms/step - loss: 0.0641 - acc: 0.9785 - val_loss: 0.5729 - val_acc: 0.8768 - lr: 5.0000e-05\n",
            "Epoch 104/150\n",
            "352/352 [==============================] - 11s 32ms/step - loss: 0.0631 - acc: 0.9775 - val_loss: 0.5847 - val_acc: 0.8756 - lr: 5.0000e-05\n",
            "Epoch 105/150\n",
            "352/352 [==============================] - 11s 33ms/step - loss: 0.0631 - acc: 0.9776 - val_loss: 0.5782 - val_acc: 0.8790 - lr: 5.0000e-05\n",
            "Epoch 106/150\n",
            "352/352 [==============================] - 11s 33ms/step - loss: 0.0626 - acc: 0.9781 - val_loss: 0.5748 - val_acc: 0.8792 - lr: 5.0000e-05\n",
            "Epoch 107/150\n",
            "352/352 [==============================] - 12s 33ms/step - loss: 0.0610 - acc: 0.9777 - val_loss: 0.5928 - val_acc: 0.8766 - lr: 5.0000e-05\n",
            "Epoch 108/150\n",
            "352/352 [==============================] - 11s 32ms/step - loss: 0.0602 - acc: 0.9792 - val_loss: 0.5806 - val_acc: 0.8788 - lr: 5.0000e-05\n",
            "Epoch 109/150\n",
            "352/352 [==============================] - 11s 32ms/step - loss: 0.0610 - acc: 0.9781 - val_loss: 0.5724 - val_acc: 0.8778 - lr: 5.0000e-05\n",
            "Epoch 110/150\n",
            "352/352 [==============================] - 11s 32ms/step - loss: 0.0607 - acc: 0.9793 - val_loss: 0.5879 - val_acc: 0.8790 - lr: 5.0000e-05\n",
            "Epoch 111/150\n",
            "352/352 [==============================] - 11s 33ms/step - loss: 0.0636 - acc: 0.9772 - val_loss: 0.5884 - val_acc: 0.8782 - lr: 5.0000e-05\n",
            "Epoch 112/150\n",
            "352/352 [==============================] - 11s 33ms/step - loss: 0.0599 - acc: 0.9782 - val_loss: 0.5965 - val_acc: 0.8752 - lr: 5.0000e-05\n",
            "Epoch 113/150\n",
            "352/352 [==============================] - 11s 33ms/step - loss: 0.0602 - acc: 0.9788 - val_loss: 0.5936 - val_acc: 0.8774 - lr: 5.0000e-05\n",
            "Epoch 114/150\n",
            "352/352 [==============================] - 11s 32ms/step - loss: 0.0579 - acc: 0.9793 - val_loss: 0.5923 - val_acc: 0.8766 - lr: 5.0000e-05\n",
            "Epoch 115/150\n",
            "352/352 [==============================] - 11s 32ms/step - loss: 0.0570 - acc: 0.9798 - val_loss: 0.6124 - val_acc: 0.8738 - lr: 5.0000e-05\n",
            "Epoch 116/150\n",
            "352/352 [==============================] - 11s 33ms/step - loss: 0.0599 - acc: 0.9782 - val_loss: 0.6052 - val_acc: 0.8766 - lr: 5.0000e-05\n",
            "Epoch 117/150\n",
            "352/352 [==============================] - 11s 33ms/step - loss: 0.0611 - acc: 0.9786 - val_loss: 0.5934 - val_acc: 0.8790 - lr: 5.0000e-05\n",
            "Epoch 118/150\n",
            "352/352 [==============================] - 12s 33ms/step - loss: 0.0569 - acc: 0.9800 - val_loss: 0.5894 - val_acc: 0.8782 - lr: 5.0000e-05\n",
            "Epoch 119/150\n",
            "352/352 [==============================] - 11s 33ms/step - loss: 0.0561 - acc: 0.9805 - val_loss: 0.5879 - val_acc: 0.8794 - lr: 5.0000e-05\n",
            "Epoch 120/150\n",
            "352/352 [==============================] - 11s 32ms/step - loss: 0.0580 - acc: 0.9790 - val_loss: 0.6026 - val_acc: 0.8772 - lr: 5.0000e-05\n",
            "Epoch 121/150\n",
            "352/352 [==============================] - 11s 32ms/step - loss: 0.0588 - acc: 0.9786 - val_loss: 0.6002 - val_acc: 0.8770 - lr: 5.0000e-05\n",
            "Epoch 122/150\n",
            "352/352 [==============================] - 12s 33ms/step - loss: 0.0548 - acc: 0.9807 - val_loss: 0.6060 - val_acc: 0.8804 - lr: 5.0000e-05\n"
          ]
        }
      ],
      "source": [
        "from keras.callbacks import LearningRateScheduler\n",
        "\n",
        "history = model.fit(train_images, train_labels, batch_size=128, epochs=150,  validation_split=0.1,\n",
        "                    callbacks = [checkpoint, early_stopping, LearningRateScheduler(lr_schedule)])"
      ]
    },
    {
      "cell_type": "code",
      "execution_count": 8,
      "metadata": {
        "id": "dtDWBqv6DNJK"
      },
      "outputs": [],
      "source": [
        "from keras.models import load_model\n",
        "\n",
        "model = load_model('best_cnn_model.h5')\n",
        "# model.save('main_model_0.864.h5')"
      ]
    },
    {
      "cell_type": "code",
      "execution_count": 9,
      "metadata": {
        "colab": {
          "base_uri": "https://localhost:8080/",
          "height": 467
        },
        "id": "K2JsOHgO3lSW",
        "outputId": "8ff21d5e-e91d-4ba1-fb61-becaf2e51810"
      },
      "outputs": [
        {
          "data": {
            "image/png": "[encoded data removed]",
            "text/plain": [
              "<Figure size 640x480 with 2 Axes>"
            ]
          },
          "metadata": {},
          "output_type": "display_data"
        },
        {
          "name": "stdout",
          "output_type": "stream",
          "text": [
            "313/313 - 3s - loss: 0.4914 - acc: 0.8644 - 3s/epoch - 10ms/step\n"
          ]
        }
      ],
      "source": [
        "import matplotlib.pyplot as plt\n",
        "\n",
        "plt.figure()\n",
        "\n",
        "# 정확도 그래프\n",
        "plt.subplot(1, 2, 1)\n",
        "plt.plot(history.history['acc'], label='acc')\n",
        "plt.plot(history.history['val_acc'], label='val_acc')\n",
        "plt.ylabel('accuracy')\n",
        "plt.xlabel('epoch')\n",
        "plt.legend(loc='best')\n",
        "\n",
        "# 손실 그래프\n",
        "plt.subplot(1, 2, 2)\n",
        "plt.plot(history.history['loss'], label='loss')\n",
        "plt.plot(history.history['val_loss'], label='val_loss')\n",
        "plt.ylabel('loss')\n",
        "plt.xlabel('epoch')\n",
        "plt.legend(loc='best')\n",
        "\n",
        "plt.show()\n",
        "\n",
        "test_loss, test_acc = model.evaluate(test_images,  test_labels, verbose=2)"
      ]
    },
    {
      "cell_type": "code",
      "execution_count": null,
      "metadata": {
        "id": "eWlqGpBbLE5z"
      },
      "outputs": [],
      "source": []
    }
  ],
  "metadata": {
    "accelerator": "GPU",
    "colab": {
      "gpuType": "T4",
      "provenance": []
    },
    "kernelspec": {
      "display_name": "Python 3",
      "name": "python3"
    },
    "language_info": {
      "name": "python"
    }
  },
  "nbformat": 4,
  "nbformat_minor": 0
}
