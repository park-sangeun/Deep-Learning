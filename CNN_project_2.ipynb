{
  "nbformat": 4,
  "nbformat_minor": 0,
  "metadata": {
    "colab": {
      "provenance": []
    },
    "kernelspec": {
      "name": "python3",
      "display_name": "Python 3"
    },
    "language_info": {
      "name": "python"
    }
  },
  "cells": [
    {
      "cell_type": "code",
      "execution_count": 1,
      "metadata": {
        "colab": {
          "base_uri": "https://localhost:8080/"
        },
        "id": "CwX92Dgf3QZq",
        "outputId": "aa50f547-dce3-4c8d-a48d-a955f9adbfd3"
      },
      "outputs": [
        {
          "output_type": "stream",
          "name": "stdout",
          "text": [
            "Downloading data from https://www.cs.toronto.edu/~kriz/cifar-10-python.tar.gz\n",
            "170498071/170498071 [==============================] - 11s 0us/step\n"
          ]
        }
      ],
      "source": [
        "from keras.datasets import cifar10\n",
        "\n",
        "(train_images, train_labels), (test_images, test_labels) = cifar10.load_data()"
      ]
    },
    {
      "cell_type": "code",
      "source": [
        "from keras.utils import to_categorical\n",
        "\n",
        "train_images = train_images.astype('float32') / 255.0\n",
        "test_images = test_images.astype('float32') / 255.0\n",
        "\n",
        "train_labels = to_categorical(train_labels, 10)\n",
        "test_labels = to_categorical(test_labels, 10)"
      ],
      "metadata": {
        "id": "KAflhzsZ3TN1"
      },
      "execution_count": 2,
      "outputs": []
    },
    {
      "cell_type": "code",
      "source": [
        "from keras.models import Sequential\n",
        "from keras.layers import Conv2D, MaxPool2D, Dropout, Flatten, Dense\n",
        "\n",
        "model = Sequential()\n",
        "\n",
        "# Convolutional Block (Conv-Conv-Pool-Dropout)\n",
        "model.add(Conv2D(32, (3, 3), activation='relu', padding='same', input_shape=(32, 32, 3)))\n",
        "model.add(Conv2D(32, (3, 3), activation='relu', padding='same'))\n",
        "model.add(MaxPool2D(pool_size=(2, 2)))\n",
        "model.add(Dropout(0.25))\n",
        "\n",
        "# Convolutional Block (Conv-Conv-Pool-Dropout)\n",
        "model.add(Conv2D(64, (3, 3), activation='relu', padding='same'))\n",
        "model.add(Conv2D(64, (3, 3), activation='relu', padding='same'))\n",
        "model.add(MaxPool2D(pool_size=(2, 2)))\n",
        "model.add(Dropout(0.25))\n",
        "\n",
        "# Classifying\n",
        "model.add(Flatten())\n",
        "model.add(Dense(512, activation='relu'))\n",
        "model.add(Dropout(0.5))\n",
        "model.add(Dense(10, activation='softmax'))"
      ],
      "metadata": {
        "id": "1yMHoiDR3W1N"
      },
      "execution_count": 3,
      "outputs": []
    },
    {
      "cell_type": "code",
      "source": [
        "from keras.optimizers import Adam\n",
        "\n",
        "model.compile(loss='categorical_crossentropy', optimizer=Adam(lr=0.001), metrics=['acc'])"
      ],
      "metadata": {
        "colab": {
          "base_uri": "https://localhost:8080/"
        },
        "id": "lgb6I6rm3c8X",
        "outputId": "2eb8beef-7312-45e4-8a35-5d4e6558f666"
      },
      "execution_count": 4,
      "outputs": [
        {
          "output_type": "stream",
          "name": "stderr",
          "text": [
            "/usr/local/lib/python3.10/dist-packages/keras/optimizers/legacy/adam.py:117: UserWarning: The `lr` argument is deprecated, use `learning_rate` instead.\n",
            "  super().__init__(name, **kwargs)\n"
          ]
        }
      ]
    },
    {
      "cell_type": "code",
      "source": [
        "history = model.fit(train_images, train_labels, batch_size=128, epochs=20, validation_split=0.1)"
      ],
      "metadata": {
        "colab": {
          "base_uri": "https://localhost:8080/"
        },
        "id": "Y91gJ8MB3hpV",
        "outputId": "e9204881-a9af-4ffa-c8f7-38e660026767"
      },
      "execution_count": 5,
      "outputs": [
        {
          "output_type": "stream",
          "name": "stdout",
          "text": [
            "Epoch 1/20\n",
            "352/352 [==============================] - 287s 810ms/step - loss: 1.6216 - acc: 0.4029 - val_loss: 1.2390 - val_acc: 0.5626\n",
            "Epoch 2/20\n",
            "352/352 [==============================] - 289s 821ms/step - loss: 1.1915 - acc: 0.5721 - val_loss: 0.9706 - val_acc: 0.6518\n",
            "Epoch 3/20\n",
            "352/352 [==============================] - 281s 800ms/step - loss: 1.0086 - acc: 0.6453 - val_loss: 0.8591 - val_acc: 0.6988\n",
            "Epoch 4/20\n",
            "352/352 [==============================] - 284s 807ms/step - loss: 0.8863 - acc: 0.6872 - val_loss: 0.8012 - val_acc: 0.7206\n",
            "Epoch 5/20\n",
            "352/352 [==============================] - 283s 804ms/step - loss: 0.7979 - acc: 0.7180 - val_loss: 0.7438 - val_acc: 0.7356\n",
            "Epoch 6/20\n",
            "352/352 [==============================] - 275s 783ms/step - loss: 0.7400 - acc: 0.7415 - val_loss: 0.6813 - val_acc: 0.7650\n",
            "Epoch 7/20\n",
            "352/352 [==============================] - 293s 833ms/step - loss: 0.6806 - acc: 0.7578 - val_loss: 0.6714 - val_acc: 0.7712\n",
            "Epoch 8/20\n",
            "352/352 [==============================] - 277s 788ms/step - loss: 0.6384 - acc: 0.7740 - val_loss: 0.6385 - val_acc: 0.7780\n",
            "Epoch 9/20\n",
            "352/352 [==============================] - 278s 791ms/step - loss: 0.5896 - acc: 0.7916 - val_loss: 0.6548 - val_acc: 0.7794\n",
            "Epoch 10/20\n",
            "352/352 [==============================] - 278s 790ms/step - loss: 0.5532 - acc: 0.8037 - val_loss: 0.6476 - val_acc: 0.7766\n",
            "Epoch 11/20\n",
            "352/352 [==============================] - 279s 793ms/step - loss: 0.5226 - acc: 0.8160 - val_loss: 0.6289 - val_acc: 0.7944\n",
            "Epoch 12/20\n",
            "352/352 [==============================] - 281s 798ms/step - loss: 0.4826 - acc: 0.8293 - val_loss: 0.6062 - val_acc: 0.8032\n",
            "Epoch 13/20\n",
            "352/352 [==============================] - 279s 792ms/step - loss: 0.4668 - acc: 0.8350 - val_loss: 0.6535 - val_acc: 0.7878\n",
            "Epoch 14/20\n",
            "352/352 [==============================] - 279s 793ms/step - loss: 0.4321 - acc: 0.8468 - val_loss: 0.6332 - val_acc: 0.7994\n",
            "Epoch 15/20\n",
            "352/352 [==============================] - 278s 788ms/step - loss: 0.4079 - acc: 0.8530 - val_loss: 0.6277 - val_acc: 0.8032\n",
            "Epoch 16/20\n",
            "352/352 [==============================] - 275s 780ms/step - loss: 0.3893 - acc: 0.8613 - val_loss: 0.6806 - val_acc: 0.7970\n",
            "Epoch 17/20\n",
            "352/352 [==============================] - 277s 787ms/step - loss: 0.3640 - acc: 0.8709 - val_loss: 0.6354 - val_acc: 0.7994\n",
            "Epoch 18/20\n",
            "352/352 [==============================] - 280s 795ms/step - loss: 0.3564 - acc: 0.8736 - val_loss: 0.6320 - val_acc: 0.8046\n",
            "Epoch 19/20\n",
            "352/352 [==============================] - 278s 791ms/step - loss: 0.3361 - acc: 0.8802 - val_loss: 0.6462 - val_acc: 0.8006\n",
            "Epoch 20/20\n",
            "352/352 [==============================] - 273s 774ms/step - loss: 0.3325 - acc: 0.8810 - val_loss: 0.6403 - val_acc: 0.8078\n"
          ]
        }
      ]
    },
    {
      "cell_type": "code",
      "source": [
        "from keras.models import load_model\n",
        "\n",
        "model.save('CNN_CIFAR10.h5')\n",
        "model = load_model('CNN_CIFAR10.h5')"
      ],
      "metadata": {
        "id": "SKGWJdbb3kN_"
      },
      "execution_count": 6,
      "outputs": []
    },
    {
      "cell_type": "code",
      "source": [
        "import matplotlib.pyplot as plt\n",
        "\n",
        "plt.plot(history.history['acc'], label='acc')\n",
        "plt.plot(history.history['val_acc'], label='val_acc')\n",
        "plt.ylabel('accuracy')\n",
        "plt.xlabel('epoch')\n",
        "plt.legend(loc='best')\n",
        "plt.show()\n",
        "\n",
        "test_loss, test_acc = model.evaluate(test_images,  test_labels, verbose=2)"
      ],
      "metadata": {
        "colab": {
          "base_uri": "https://localhost:8080/",
          "height": 470
        },
        "id": "K2JsOHgO3lSW",
        "outputId": "ab5d60de-8cc1-42cb-f04a-c1db7e6251b1"
      },
      "execution_count": 8,
      "outputs": [
        {
          "output_type": "display_data",
          "data": {
            "text/plain": [
              "<Figure size 640x480 with 1 Axes>"
            ],
            "image/png": "[encoded data removed]"
          },
          "metadata": {}
        },
        {
          "output_type": "stream",
          "name": "stdout",
          "text": [
            "313/313 - 15s - loss: 0.6694 - acc: 0.7934 - 15s/epoch - 48ms/step\n"
          ]
        }
      ]
    },
    {
      "cell_type": "code",
      "source": [],
      "metadata": {
        "id": "os-cPLR6-0rL"
      },
      "execution_count": null,
      "outputs": []
    }
  ]
}